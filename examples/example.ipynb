{
 "cells": [
  {
   "cell_type": "code",
   "execution_count": null,
   "metadata": {
    "pycharm": {
     "name": "#%%\n",
     "is_executing": true
    }
   },
   "outputs": [],
   "source": [
    "import cv2\n",
    "import matplotlib.pyplot as plt\n",
    "from clarityai.attention_maps import AttentionMapGenerator\n",
    "from clarityai.saliency_maps import SaliencyMapGenerator"
   ]
  },
  {
   "cell_type": "code",
   "execution_count": null,
   "metadata": {
    "pycharm": {
     "name": "#%%\n"
    }
   },
   "outputs": [],
   "source": [
    "# initialize image + model path\n",
    "input_image = cv2.imread('example.png')\n",
    "model_path = 'my_model.h5'"
   ]
  },
  {
   "cell_type": "code",
   "execution_count": null,
   "metadata": {
    "pycharm": {
     "name": "#%%\n"
    }
   },
   "outputs": [],
   "source": [
    "# run attention map generator\n",
    "generator = AttentionMapGenerator(model_path)\n",
    "\n",
    "# generate heatmaps for specific layer indices (e.g., layers 0 and 3)\n",
    "layer_indices = [0, 3]\n",
    "heatmaps = generator.generate_heatmaps(input_image, layer_indices)\n",
    "\n",
    "# plot the generated heatmaps\n",
    "generator.plot_heatmaps(heatmaps)"
   ]
  },
  {
   "cell_type": "code",
   "execution_count": null,
   "metadata": {
    "pycharm": {
     "name": "#%%\n"
    }
   },
   "outputs": [],
   "source": [
    "# run saliency map generator\n",
    "saliency_map_generator = SaliencyMapGenerator(model_path)\n",
    "\n",
    "# generate and display the saliency map for the input image\n",
    "saliency_map_generator.generate_saliency_map(input_image)"
   ]
  }
 ],
 "metadata": {
  "language_info": {
   "name": "python"
  },
  "orig_nbformat": 4
 },
 "nbformat": 4,
 "nbformat_minor": 2
}